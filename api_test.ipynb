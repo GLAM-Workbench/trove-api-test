{
 "cells": [
  {
   "cell_type": "code",
   "execution_count": null,
   "id": "728e2081-2d4f-46f2-991c-4cf1e8cd7187",
   "metadata": {
    "tags": []
   },
   "outputs": [],
   "source": [
    "import requests\n",
    "import yaml\n",
    "import os\n",
    "from dotenv import load_dotenv\n",
    "from IPython.display import display, Markdown, HTML\n",
    "import json\n",
    "from urllib.parse import urlparse, parse_qs, quote_plus\n",
    "import datetime\n",
    "\n",
    "load_dotenv()\n",
    "\n",
    "API_KEY = os.getenv(\"TROVE_API_KEY\")\n",
    "headers = {\"X-API-KEY\": API_KEY}"
   ]
  },
  {
   "cell_type": "code",
   "execution_count": 47,
   "id": "fa3d64d6-76d1-4333-b0bf-541ad616f81f",
   "metadata": {
    "tags": []
   },
   "outputs": [
    {
     "data": {
      "text/markdown": [
       "# Trove API v3 status"
      ],
      "text/plain": [
       "<IPython.core.display.Markdown object>"
      ]
     },
     "metadata": {},
     "output_type": "display_data"
    },
    {
     "data": {
      "text/markdown": [
       "This page runs the example queries listed in the [Trove API Console](https://troveconsole.herokuapp.com/v3/) and tests the results."
      ],
      "text/plain": [
       "<IPython.core.display.Markdown object>"
      ]
     },
     "metadata": {},
     "output_type": "display_data"
    },
    {
     "data": {
      "text/markdown": [
       "Last run: 2023-06-14T15:11:04.412978"
      ],
      "text/plain": [
       "<IPython.core.display.Markdown object>"
      ]
     },
     "metadata": {},
     "output_type": "display_data"
    }
   ],
   "source": [
    "display(Markdown(\"# Trove API v3 status\"))\n",
    "display(Markdown(\"This page runs the example queries listed in the [Trove API Console](https://troveconsole.herokuapp.com/v3/) and checks the results.\"))\n",
    "display(Markdown(f\"Last run: {datetime.datetime.now().isoformat()}\"))"
   ]
  },
  {
   "cell_type": "code",
   "execution_count": null,
   "id": "d39bc00b-ef25-407d-bceb-e7ced4f314e5",
   "metadata": {
    "tags": []
   },
   "outputs": [],
   "source": [
    "response = requests.get(\"https://raw.githubusercontent.com/wragge/trove-api-console/master/examples-v3.yml\")"
   ]
  },
  {
   "cell_type": "code",
   "execution_count": null,
   "id": "c3b008ee-d9d7-4232-a46c-d6f153e2e0ef",
   "metadata": {
    "tags": []
   },
   "outputs": [],
   "source": [
    "examples = yaml.safe_load(response.text)"
   ]
  },
  {
   "cell_type": "code",
   "execution_count": null,
   "id": "131b010f-1d4a-44d8-af03-06f35e61b8ad",
   "metadata": {
    "tags": []
   },
   "outputs": [],
   "source": [
    "for section in examples[\"sections\"]:\n",
    "    display(Markdown(f\"## {section['heading']}\"))\n",
    "    for example in section[\"examples\"]:\n",
    "        errors = False\n",
    "        display(Markdown(f\"### {example['heading']}\"))\n",
    "        display(Markdown(f\"[{example['url']}](https://troveconsole.herokuapp.com/v3/?url={quote_plus(example['url'])})\"))\n",
    "        response = requests.get(example[\"url\"], headers=headers)\n",
    "        if response.status_code != 200:\n",
    "            display(HTML(f\"<div class='alert alert-block alert-danger'>❌ HTTP Error {response.status_code}</div>\"))\n",
    "            errors = True\n",
    "        else:\n",
    "            try:\n",
    "                data = response.json()\n",
    "            except json.decoder.JSONDecodeError:\n",
    "                display(HTML(f\"<div class='alert alert-block alert-danger'>❌ JSON Decode Error (the response doesn't seem to be in JSON)</div>\"))\n",
    "                errors = True\n",
    "            else:\n",
    "                if \"category\" in data and \"id\" not in data:\n",
    "                    parsed_url = urlparse(example[\"url\"])\n",
    "                    params = parse_qs(parsed_url.query)\n",
    "                    facets = False\n",
    "                    if \"facet\" in params:\n",
    "                        for cat in data[\"category\"]:\n",
    "                            if cat[\"facets\"]:\n",
    "                                facets = True\n",
    "                                break\n",
    "                        if facets is False:\n",
    "                            display(HTML(f\"<div class='alert alert-block alert-danger'>❌ No facet values</div>\"))\n",
    "                            errors = True\n",
    "                    results = False\n",
    "                    for cat in data[\"category\"]:\n",
    "                        if cat[\"records\"][\"total\"] > 0:\n",
    "                            results = True\n",
    "                            break\n",
    "                    if results is False:\n",
    "                        display(HTML(f\"<div class='alert alert-block alert-danger'>❌ No results</div>\"))\n",
    "                        errors = True\n",
    "                elif \"total\" in data:\n",
    "                    if data[\"total\"] == 0:\n",
    "                        display(HTML(f\"<div class='alert alert-block alert-danger'>❌ No results</div>\"))\n",
    "                        errors = True\n",
    "                elif \"id\" in data:\n",
    "                    pass\n",
    "                else:\n",
    "                    display(HTML(f\"<div class='alert alert-block alert-danger'>❌ Results format not recognised</div>\"))\n",
    "                    errors = True\n",
    "        if errors is False:\n",
    "            display(HTML(f\"<div class='alert alert-block alert-success'>✅ Success!</div>\"))\n",
    "                "
   ]
  }
 ],
 "metadata": {
  "kernelspec": {
   "display_name": "Python 3 (ipykernel)",
   "language": "python",
   "name": "python3"
  },
  "language_info": {
   "codemirror_mode": {
    "name": "ipython",
    "version": 3
   },
   "file_extension": ".py",
   "mimetype": "text/x-python",
   "name": "python",
   "nbconvert_exporter": "python",
   "pygments_lexer": "ipython3",
   "version": "3.10.2"
  }
 },
 "nbformat": 4,
 "nbformat_minor": 5
}
